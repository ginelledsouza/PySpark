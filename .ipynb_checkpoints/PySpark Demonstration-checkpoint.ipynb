{
 "cells": [
  {
   "cell_type": "markdown",
   "metadata": {},
   "source": [
    "# Data Processing Using PySpark"
   ]
  },
  {
   "cell_type": "code",
   "execution_count": 1,
   "metadata": {},
   "outputs": [],
   "source": [
    "from pyspark.sql import SparkSession\n",
    "Spark = SparkSession.builder.appName(\"Demonstration\").getOrCreate()"
   ]
  },
  {
   "cell_type": "code",
   "execution_count": 2,
   "metadata": {},
   "outputs": [
    {
     "data": {
      "text/html": [
       "\n",
       "            <div>\n",
       "                <p><b>SparkSession - in-memory</b></p>\n",
       "                \n",
       "        <div>\n",
       "            <p><b>SparkContext</b></p>\n",
       "\n",
       "            <p><a href=\"http://Ginelle.mshome.net:4040\">Spark UI</a></p>\n",
       "\n",
       "            <dl>\n",
       "              <dt>Version</dt>\n",
       "                <dd><code>v3.2.0</code></dd>\n",
       "              <dt>Master</dt>\n",
       "                <dd><code>local[*]</code></dd>\n",
       "              <dt>AppName</dt>\n",
       "                <dd><code>Demonstration</code></dd>\n",
       "            </dl>\n",
       "        </div>\n",
       "        \n",
       "            </div>\n",
       "        "
      ],
      "text/plain": [
       "<pyspark.sql.session.SparkSession at 0x2ad466fe280>"
      ]
     },
     "execution_count": 2,
     "metadata": {},
     "output_type": "execute_result"
    }
   ],
   "source": [
    "Spark"
   ]
  },
  {
   "cell_type": "code",
   "execution_count": 3,
   "metadata": {},
   "outputs": [
    {
     "name": "stdout",
     "output_type": "stream",
     "text": [
      "Total Records: 5110\n",
      "Total Columns: 12\n"
     ]
    }
   ],
   "source": [
    "df = Spark.read.csv(\"Dataset/stroke.csv\",header=True,inferSchema=True)\n",
    "print(\"Total Records: {}\\nTotal Columns: {}\".format(df.count(), len(df.columns)))"
   ]
  },
  {
   "cell_type": "code",
   "execution_count": 4,
   "metadata": {},
   "outputs": [
    {
     "name": "stdout",
     "output_type": "stream",
     "text": [
      "+-----+------+----+------------+-------------+------------+-------------+--------------+-----------------+----+---------------+------+\n",
      "|   id|gender| age|hypertension|heart_disease|ever_married|    work_type|Residence_type|avg_glucose_level| bmi| smoking_status|stroke|\n",
      "+-----+------+----+------------+-------------+------------+-------------+--------------+-----------------+----+---------------+------+\n",
      "| 9046|  Male|67.0|           0|            1|         Yes|      Private|         Urban|           228.69|36.6|formerly smoked|     1|\n",
      "|51676|Female|61.0|           0|            0|         Yes|Self-employed|         Rural|           202.21| N/A|   never smoked|     1|\n",
      "|31112|  Male|80.0|           0|            1|         Yes|      Private|         Rural|           105.92|32.5|   never smoked|     1|\n",
      "|60182|Female|49.0|           0|            0|         Yes|      Private|         Urban|           171.23|34.4|         smokes|     1|\n",
      "| 1665|Female|79.0|           1|            0|         Yes|Self-employed|         Rural|           174.12|  24|   never smoked|     1|\n",
      "+-----+------+----+------------+-------------+------------+-------------+--------------+-----------------+----+---------------+------+\n",
      "only showing top 5 rows\n",
      "\n"
     ]
    }
   ],
   "source": [
    "df.show(5)"
   ]
  },
  {
   "cell_type": "code",
   "execution_count": 5,
   "metadata": {},
   "outputs": [
    {
     "name": "stdout",
     "output_type": "stream",
     "text": [
      "+---+------+---+------------+-------------+------------+---------+--------------+-----------------+---+--------------+------+\n",
      "| id|gender|age|hypertension|heart_disease|ever_married|work_type|Residence_type|avg_glucose_level|bmi|smoking_status|stroke|\n",
      "+---+------+---+------------+-------------+------------+---------+--------------+-----------------+---+--------------+------+\n",
      "|  0|     0|  0|           0|            0|           0|        0|             0|                0|  0|             0|     0|\n",
      "+---+------+---+------------+-------------+------------+---------+--------------+-----------------+---+--------------+------+\n",
      "\n"
     ]
    }
   ],
   "source": [
    "from pyspark.sql.functions import col,isnan, when, count\n",
    "\n",
    "df.select([count(when(isnan(c) | col(c).isNull(), c)).alias(c) for c in df.columns]).show()"
   ]
  },
  {
   "cell_type": "code",
   "execution_count": 6,
   "metadata": {},
   "outputs": [
    {
     "name": "stdout",
     "output_type": "stream",
     "text": [
      "root\n",
      " |-- id: integer (nullable = true)\n",
      " |-- gender: string (nullable = true)\n",
      " |-- age: double (nullable = true)\n",
      " |-- hypertension: integer (nullable = true)\n",
      " |-- heart_disease: integer (nullable = true)\n",
      " |-- ever_married: string (nullable = true)\n",
      " |-- work_type: string (nullable = true)\n",
      " |-- Residence_type: string (nullable = true)\n",
      " |-- avg_glucose_level: double (nullable = true)\n",
      " |-- bmi: integer (nullable = true)\n",
      " |-- smoking_status: string (nullable = true)\n",
      " |-- stroke: integer (nullable = true)\n",
      "\n"
     ]
    }
   ],
   "source": [
    "value = str(round(df.agg({'bmi':'mean'}).collect()[0][0],2))\n",
    "df = df.na.replace('N/A', value,'bmi')\n",
    "\n",
    "from pyspark.sql.types import IntegerType\n",
    "df = df.withColumn(\"bmi\", df[\"bmi\"].cast(IntegerType()))\n",
    "\n",
    "df.printSchema()"
   ]
  },
  {
   "cell_type": "code",
   "execution_count": 7,
   "metadata": {},
   "outputs": [
    {
     "name": "stdout",
     "output_type": "stream",
     "text": [
      "**********\n",
      "\n",
      "gender\n",
      "['Female', 'Other', 'Male']\n",
      "\n",
      "**********\n",
      "\n",
      "ever_married\n",
      "['No', 'Yes']\n",
      "\n",
      "**********\n",
      "\n",
      "work_type\n",
      "['Never_worked', 'Self-employed', 'Private', 'children', 'Govt_job']\n",
      "\n",
      "**********\n",
      "\n",
      "Residence_type\n",
      "['Urban', 'Rural']\n",
      "\n",
      "**********\n",
      "\n",
      "smoking_status\n",
      "['smokes', 'Unknown', 'never smoked', 'formerly smoked']\n",
      "\n",
      "**********\n",
      "\n"
     ]
    }
   ],
   "source": [
    "columns = [x[0] for x in df.dtypes if (x[1] == 'string')]\n",
    "\n",
    "print(\"**********\\n\")\n",
    "\n",
    "for x in columns:\n",
    "    print(x)\n",
    "    print([i[x] for i in df.select(x).distinct().collect()])\n",
    "    print(\"\\n**********\\n\")"
   ]
  },
  {
   "cell_type": "code",
   "execution_count": 8,
   "metadata": {},
   "outputs": [],
   "source": [
    "value = [df.groupby(\"gender\").count().orderBy(\"count\", ascending=False).first()[0]][0]\n",
    "df = df.na.replace('Other', value,'gender')\n",
    "\n",
    "value = [df.groupby(\"smoking_status\").count().orderBy(\"count\", ascending=False).first()[0]][0]\n",
    "df = df.na.replace('Unknown', value,'smoking_status')"
   ]
  },
  {
   "cell_type": "code",
   "execution_count": 9,
   "metadata": {},
   "outputs": [
    {
     "name": "stdout",
     "output_type": "stream",
     "text": [
      "+-------+------------------+------------------+-----------------+\n",
      "|summary|               age| avg_glucose_level|              bmi|\n",
      "+-------+------------------+------------------+-----------------+\n",
      "|  count|              5110|              5110|             5110|\n",
      "|   mean|43.226614481409015|106.14767710371804|28.43091976516634|\n",
      "| stddev| 22.61264672311348| 45.28356015058193|7.688482598387539|\n",
      "|    min|              0.08|             55.12|               10|\n",
      "|    max|              82.0|            271.74|               97|\n",
      "+-------+------------------+------------------+-----------------+\n",
      "\n"
     ]
    }
   ],
   "source": [
    "columns = ['summary'] + [x[0] for x in df.dtypes if (x[1] != 'string') and (len(df.select(x[0]).distinct().collect()) != 2)]\n",
    "columns.remove('id')\n",
    "\n",
    "data_summary = df.describe().select(columns)\n",
    "\n",
    "data_summary.show()"
   ]
  },
  {
   "cell_type": "code",
   "execution_count": 10,
   "metadata": {},
   "outputs": [
    {
     "name": "stdout",
     "output_type": "stream",
     "text": [
      "gender\n",
      "+------+-----+\n",
      "|gender|count|\n",
      "+------+-----+\n",
      "|  Male| 2115|\n",
      "|Female| 2995|\n",
      "+------+-----+\n",
      "\n",
      "\n",
      "ever_married\n",
      "+------------+-----+\n",
      "|ever_married|count|\n",
      "+------------+-----+\n",
      "|          No| 1757|\n",
      "|         Yes| 3353|\n",
      "+------------+-----+\n",
      "\n",
      "\n",
      "work_type\n",
      "+-------------+-----+\n",
      "|    work_type|count|\n",
      "+-------------+-----+\n",
      "| Never_worked|   22|\n",
      "|     Govt_job|  657|\n",
      "|     children|  687|\n",
      "|Self-employed|  819|\n",
      "|      Private| 2925|\n",
      "+-------------+-----+\n",
      "\n",
      "\n",
      "Residence_type\n",
      "+--------------+-----+\n",
      "|Residence_type|count|\n",
      "+--------------+-----+\n",
      "|         Rural| 2514|\n",
      "|         Urban| 2596|\n",
      "+--------------+-----+\n",
      "\n",
      "\n",
      "smoking_status\n",
      "+---------------+-----+\n",
      "| smoking_status|count|\n",
      "+---------------+-----+\n",
      "|         smokes|  789|\n",
      "|formerly smoked|  885|\n",
      "|   never smoked| 3436|\n",
      "+---------------+-----+\n",
      "\n",
      "\n"
     ]
    }
   ],
   "source": [
    "columns = [x[0] for x in df.dtypes if (x[1] == 'string')]\n",
    "\n",
    "for i in columns:\n",
    "    \n",
    "    print(i)\n",
    "    df.groupBy(i).count().orderBy('count').show()\n",
    "    print()"
   ]
  }
 ],
 "metadata": {
  "kernelspec": {
   "display_name": "Python 3",
   "language": "python",
   "name": "python3"
  },
  "language_info": {
   "codemirror_mode": {
    "name": "ipython",
    "version": 3
   },
   "file_extension": ".py",
   "mimetype": "text/x-python",
   "name": "python",
   "nbconvert_exporter": "python",
   "pygments_lexer": "ipython3",
   "version": "3.8.5"
  }
 },
 "nbformat": 4,
 "nbformat_minor": 4
}
